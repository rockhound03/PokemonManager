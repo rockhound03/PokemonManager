{
 "cells": [
  {
   "cell_type": "code",
   "execution_count": 1,
   "metadata": {},
   "outputs": [],
   "source": [
    "# Dependencies\n",
    "# ----------------------------------\n",
    "# Imports the method used for connecting to DBs\n",
    "from sqlalchemy import create_engine\n",
    "\n",
    "# Imports the methods needed to abstract classes into tables\n",
    "from sqlalchemy.ext.declarative import declarative_base\n",
    "\n",
    "# Allow us to declare column types\n",
    "from sqlalchemy import Column, Integer, String, Float "
   ]
  },
  {
   "cell_type": "code",
   "execution_count": 2,
   "metadata": {},
   "outputs": [],
   "source": [
    "# Create Dog and Cat Classes\n",
    "# ----------------------------------\n",
    "\n",
    "# Sets an object to utilize the default declarative base in SQL Alchemy\n",
    "Base = declarative_base()\n",
    "\n",
    "\n",
    "# Creates Classes which will serve as the anchor points for our Tables\n",
    "class Pokemon(Base):\n",
    "    __tablename__ = 'pokemon'\n",
    "    id = Column(Integer, primary_key=True)\n",
    "    name = Column(String(255))\n",
    "    pic = Column(String(255))\n",
    "    energy = Column(String(255))\n",
    "    region = Column(String(255))\n",
    "    retreat = Column(Integer)\n",
    "    weakness = Column(String(255))\n",
    "    weak_numb = Column(Integer)\n",
    "    resistance = Column(String(255))\n",
    "    resistance_pwr = Column(Integer)\n",
    "    rarity = Column(String(255))\n",
    "    ability = Column(String(255))\n",
    "    attack_1 = Column(String(255))\n",
    "    attack_1_desc = Column(String(255))\n",
    "    attack_1_energy1 = Column(String(255))\n",
    "    attack_1_energy2 = Column(String(255))\n",
    "    attack_1_egy1_cnt = Column(Integer)\n",
    "    attack_1_egy2_cnt = Column(Integer)\n",
    "    attack_2 = Column(String(255))\n",
    "    attack_2_desc = Column(String(255))\n",
    "    attack_2_energy1 = Column(String(255))\n",
    "    attack_2_energy2 = Column(String(255))\n",
    "    attack_2_egy1_cnt = Column(Integer)\n",
    "    attack_2_egy2_cnt = Column(Integer)\n",
    "    damage = Column(Integer)\n",
    "    inventory_count = Column(Integer)\n",
    "\n",
    "\n",
    "class Trainer(Base):\n",
    "    __tablename__ = 'trainer'\n",
    "    id = Column(Integer, primary_key=True)\n",
    "    name = Column(String(255))\n",
    "    card_set = Column(String(255))\n",
    "    train_type = Column(String(255))\n",
    "    train_action = Column(String(255))\n",
    "    card_count = Column(Integer)\n",
    "    set_number = Column(Integer)"
   ]
  },
  {
   "cell_type": "code",
   "execution_count": 3,
   "metadata": {},
   "outputs": [],
   "source": [
    "# Create a Specific Instance of the Pokemon and Trainer classes\n",
    "# ----------------------------------\n",
    "\n",
    "# Calls the Pet Constructors to create \"Pokemon\" and \"Trainer\" objects\n",
    "test_list = []\n",
    "test_list.append(Pokemon(name='Lucario V', energy='Fighting', retreat=2, weakness='Faery',weak_numb=2,damage=210,rarity=\"Ultra-rare\",\n",
    "                        attack_1=\"Aura Sphere\",attack_1_desc=\"This attack also does 20 damage to 1 of your opponents benched Pokemon. (Dont apply weakness and resistance for benched pokemon.)\",\n",
    "                        attack_1_energy1=\"Fighting\",attack_1_egy1_cnt=1,))\n",
    "test_list.append(Trainer(name=\"Professor's Research\", card_set=\"Champion's Path\", train_type=\"Supporter\",set_number=62))\n",
    "#dog = Dog(name='Rex', color='Brown', age=4)\n",
    "#cat = Cat(name=\"Felix\", color=\"Gray\", age=7)"
   ]
  },
  {
   "cell_type": "code",
   "execution_count": 4,
   "metadata": {},
   "outputs": [],
   "source": [
    "# Create Database Connection\n",
    "# ----------------------------------\n",
    "# Creates a connection to our DB\n",
    "engine = create_engine(\"sqlite:///pets.sqlite\")\n",
    "conn = engine.connect()"
   ]
  },
  {
   "cell_type": "code",
   "execution_count": 5,
   "metadata": {},
   "outputs": [],
   "source": [
    "# Create a \"Metadata\" Layer That Abstracts our SQL Database\n",
    "# ----------------------------------\n",
    "# Create (if not already in existence) the tables associated with our classes.\n",
    "Base.metadata.create_all(engine)\n",
    "\n",
    "# Use this to clear out the db\n",
    "# ----------------------------------\n",
    "# Base.metadata.drop_all(engine)"
   ]
  },
  {
   "cell_type": "code",
   "execution_count": 6,
   "metadata": {},
   "outputs": [],
   "source": [
    "# Create a Session Object to Connect to DB\n",
    "# ----------------------------------\n",
    "# Session is a temporary binding to our DB\n",
    "from sqlalchemy.orm import Session\n",
    "session = Session(bind=engine)"
   ]
  },
  {
   "cell_type": "code",
   "execution_count": 7,
   "metadata": {},
   "outputs": [],
   "source": [
    "# Add Records to the Appropriate DB\n",
    "# ----------------------------------\n",
    "# Use the SQL ALchemy methods to run simple \"INSERT\" statements using the classes and objects  \n",
    "session.add(test_list[0])\n",
    "session.add(test_list[1])\n",
    "session.commit()"
   ]
  },
  {
   "cell_type": "code",
   "execution_count": 8,
   "metadata": {},
   "outputs": [
    {
     "name": "stdout",
     "output_type": "stream",
     "text": [
      "Lucario V\n"
     ]
    }
   ],
   "source": [
    "# Query the Tables\n",
    "# ----------------------------------\n",
    "# Perform a simple query of the database\n",
    "pokemon_list = session.query(Pokemon)\n",
    "for poke in pokemon_list:\n",
    "    print(poke.name)"
   ]
  },
  {
   "cell_type": "code",
   "execution_count": 9,
   "metadata": {},
   "outputs": [
    {
     "name": "stdout",
     "output_type": "stream",
     "text": [
      "Professor's Research\n"
     ]
    }
   ],
   "source": [
    "train_list = session.query(Trainer)\n",
    "for traintrain in train_list:\n",
    "    print(traintrain.name)"
   ]
  },
  {
   "cell_type": "code",
   "execution_count": null,
   "metadata": {},
   "outputs": [],
   "source": []
  },
  {
   "cell_type": "code",
   "execution_count": null,
   "metadata": {},
   "outputs": [],
   "source": []
  }
 ],
 "metadata": {
  "kernelspec": {
   "display_name": "Python 3",
   "language": "python",
   "name": "python3"
  },
  "language_info": {
   "codemirror_mode": {
    "name": "ipython",
    "version": 3
   },
   "file_extension": ".py",
   "mimetype": "text/x-python",
   "name": "python",
   "nbconvert_exporter": "python",
   "pygments_lexer": "ipython3",
   "version": "3.7.6"
  },
  "varInspector": {
   "cols": {
    "lenName": 16,
    "lenType": 16,
    "lenVar": 40
   },
   "kernels_config": {
    "python": {
     "delete_cmd_postfix": "",
     "delete_cmd_prefix": "del ",
     "library": "var_list.py",
     "varRefreshCmd": "print(var_dic_list())"
    },
    "r": {
     "delete_cmd_postfix": ") ",
     "delete_cmd_prefix": "rm(",
     "library": "var_list.r",
     "varRefreshCmd": "cat(var_dic_list()) "
    }
   },
   "types_to_exclude": [
    "module",
    "function",
    "builtin_function_or_method",
    "instance",
    "_Feature"
   ],
   "window_display": false
  }
 },
 "nbformat": 4,
 "nbformat_minor": 2
}
